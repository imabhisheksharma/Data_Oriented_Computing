{
 "cells": [
  {
   "cell_type": "markdown",
   "metadata": {},
   "source": [
    "# Project 3: Text classification with Naive Bayes "
   ]
  },
  {
   "cell_type": "markdown",
   "metadata": {},
   "source": [
    "## Name: Abhishek Kumar Sharma\n",
    "## Student Id: 5037 2679\n",
    "## Class: MTH 548\n",
    "## Date: March 14, 2023"
   ]
  },
  {
   "cell_type": "markdown",
   "metadata": {},
   "source": [
    "# Introduction"
   ]
  },
  {
   "cell_type": "markdown",
   "metadata": {},
   "source": [
    "In this project, you will be working with 3 datasets:\n",
    "$$(1) \\text{1 or more presidential debate transcripts that you scraped last week.}$$\n",
    "\n",
    "$$(2) \\text{movie_reviews.zip}$$"
   ]
  },
  {
   "cell_type": "markdown",
   "metadata": {},
   "source": [
    "The file movie_reviews.zip is a zipped csv file containing texts of about 25,000 movie reviews. Each review is accompanied by a label, indicating if the review is positive or negative."
   ]
  },
  {
   "cell_type": "markdown",
   "metadata": {},
   "source": [
    "We begin by implementing model for movie reviews using Naive Bayes. The idea is to create a training data set and we will create a dataframe with two columns “positive” and “negative”. Rows of the dataframe labeled by words appearing in the text of the reviews. The entries of a row will show how many times the given word appears in the text of negative reviews and how many times it appears in positive reviews.\n",
    "\n",
    "We will do this by preprocessing the data, which includes cleaning of data, tokenization and removing of stopwords and then creating the dataframe."
   ]
  },
  {
   "cell_type": "markdown",
   "metadata": {},
   "source": [
    "### Importing Libraries"
   ]
  },
  {
   "cell_type": "code",
   "execution_count": 3,
   "metadata": {},
   "outputs": [],
   "source": [
    "import pandas as pd                                        # To work with dataframes\n",
    "import matplotlib.pyplot as plt                            # To plot graphs if required\n",
    "from wordcloud import WordCloud\n",
    "from collections import Counter\n",
    "from sklearn.model_selection import train_test_split       # To create the training and test dataset\n",
    "import re\n",
    "from bs4 import BeautifulSoup\n",
    "import numpy as np                                          \n",
    "import requests\n",
    "from tqdm import tqdm\n",
    "from sklearn.metrics import accuracy_score                  # To check the accuracy score of the model"
   ]
  },
  {
   "cell_type": "markdown",
   "metadata": {},
   "source": [
    "### Importing datasets"
   ]
  },
  {
   "cell_type": "code",
   "execution_count": 2,
   "metadata": {},
   "outputs": [
    {
     "data": {
      "text/html": [
       "<div>\n",
       "<style scoped>\n",
       "    .dataframe tbody tr th:only-of-type {\n",
       "        vertical-align: middle;\n",
       "    }\n",
       "\n",
       "    .dataframe tbody tr th {\n",
       "        vertical-align: top;\n",
       "    }\n",
       "\n",
       "    .dataframe thead th {\n",
       "        text-align: right;\n",
       "    }\n",
       "</style>\n",
       "<table border=\"1\" class=\"dataframe\">\n",
       "  <thead>\n",
       "    <tr style=\"text-align: right;\">\n",
       "      <th></th>\n",
       "      <th>review</th>\n",
       "      <th>sentiment</th>\n",
       "    </tr>\n",
       "  </thead>\n",
       "  <tbody>\n",
       "    <tr>\n",
       "      <th>0</th>\n",
       "      <td>This film is absolutely awful, but nevertheles...</td>\n",
       "      <td>negative</td>\n",
       "    </tr>\n",
       "    <tr>\n",
       "      <th>1</th>\n",
       "      <td>Well since seeing part's 1 through 3 I can hon...</td>\n",
       "      <td>negative</td>\n",
       "    </tr>\n",
       "    <tr>\n",
       "      <th>2</th>\n",
       "      <td>I got to see this film at a preview and was da...</td>\n",
       "      <td>positive</td>\n",
       "    </tr>\n",
       "  </tbody>\n",
       "</table>\n",
       "</div>"
      ],
      "text/plain": [
       "                                              review sentiment\n",
       "0  This film is absolutely awful, but nevertheles...  negative\n",
       "1  Well since seeing part's 1 through 3 I can hon...  negative\n",
       "2  I got to see this film at a preview and was da...  positive"
      ]
     },
     "execution_count": 2,
     "metadata": {},
     "output_type": "execute_result"
    }
   ],
   "source": [
    "movies = pd.read_csv(\"movie_reviews.zip\")   # creating the dataframe for movie reviews\n",
    "movies[:3]"
   ]
  },
  {
   "cell_type": "markdown",
   "metadata": {},
   "source": [
    "The dataset contains uppercase and lowercase letters. So we convert the reviews in the lowercase so that it is easy for us to process the data."
   ]
  },
  {
   "cell_type": "code",
   "execution_count": 3,
   "metadata": {},
   "outputs": [],
   "source": [
    "movies[\"review\"] = movies[\"review\"].str.lower()   # Converting every review into lowercase"
   ]
  },
  {
   "cell_type": "code",
   "execution_count": 4,
   "metadata": {},
   "outputs": [
    {
     "data": {
      "text/html": [
       "<div>\n",
       "<style scoped>\n",
       "    .dataframe tbody tr th:only-of-type {\n",
       "        vertical-align: middle;\n",
       "    }\n",
       "\n",
       "    .dataframe tbody tr th {\n",
       "        vertical-align: top;\n",
       "    }\n",
       "\n",
       "    .dataframe thead th {\n",
       "        text-align: right;\n",
       "    }\n",
       "</style>\n",
       "<table border=\"1\" class=\"dataframe\">\n",
       "  <thead>\n",
       "    <tr style=\"text-align: right;\">\n",
       "      <th></th>\n",
       "      <th>review</th>\n",
       "      <th>sentiment</th>\n",
       "    </tr>\n",
       "  </thead>\n",
       "  <tbody>\n",
       "    <tr>\n",
       "      <th>0</th>\n",
       "      <td>this film is absolutely awful, but nevertheles...</td>\n",
       "      <td>negative</td>\n",
       "    </tr>\n",
       "    <tr>\n",
       "      <th>1</th>\n",
       "      <td>well since seeing part's 1 through 3 i can hon...</td>\n",
       "      <td>negative</td>\n",
       "    </tr>\n",
       "    <tr>\n",
       "      <th>2</th>\n",
       "      <td>i got to see this film at a preview and was da...</td>\n",
       "      <td>positive</td>\n",
       "    </tr>\n",
       "    <tr>\n",
       "      <th>3</th>\n",
       "      <td>this adaptation positively butchers a classic ...</td>\n",
       "      <td>negative</td>\n",
       "    </tr>\n",
       "    <tr>\n",
       "      <th>4</th>\n",
       "      <td>råzone is an awful movie! it is so simple. it ...</td>\n",
       "      <td>negative</td>\n",
       "    </tr>\n",
       "    <tr>\n",
       "      <th>...</th>\n",
       "      <td>...</td>\n",
       "      <td>...</td>\n",
       "    </tr>\n",
       "    <tr>\n",
       "      <th>24995</th>\n",
       "      <td>with this movie being the only dirty harry mov...</td>\n",
       "      <td>positive</td>\n",
       "    </tr>\n",
       "    <tr>\n",
       "      <th>24996</th>\n",
       "      <td>any screen adaptation of a john grisham story ...</td>\n",
       "      <td>positive</td>\n",
       "    </tr>\n",
       "    <tr>\n",
       "      <th>24997</th>\n",
       "      <td>this film captured my heart from the very begi...</td>\n",
       "      <td>positive</td>\n",
       "    </tr>\n",
       "    <tr>\n",
       "      <th>24998</th>\n",
       "      <td>a deplorable social condition triggers off the...</td>\n",
       "      <td>positive</td>\n",
       "    </tr>\n",
       "    <tr>\n",
       "      <th>24999</th>\n",
       "      <td>always enjoy the great acting of drew barrymor...</td>\n",
       "      <td>positive</td>\n",
       "    </tr>\n",
       "  </tbody>\n",
       "</table>\n",
       "<p>25000 rows × 2 columns</p>\n",
       "</div>"
      ],
      "text/plain": [
       "                                                  review sentiment\n",
       "0      this film is absolutely awful, but nevertheles...  negative\n",
       "1      well since seeing part's 1 through 3 i can hon...  negative\n",
       "2      i got to see this film at a preview and was da...  positive\n",
       "3      this adaptation positively butchers a classic ...  negative\n",
       "4      råzone is an awful movie! it is so simple. it ...  negative\n",
       "...                                                  ...       ...\n",
       "24995  with this movie being the only dirty harry mov...  positive\n",
       "24996  any screen adaptation of a john grisham story ...  positive\n",
       "24997  this film captured my heart from the very begi...  positive\n",
       "24998  a deplorable social condition triggers off the...  positive\n",
       "24999  always enjoy the great acting of drew barrymor...  positive\n",
       "\n",
       "[25000 rows x 2 columns]"
      ]
     },
     "execution_count": 4,
     "metadata": {},
     "output_type": "execute_result"
    }
   ],
   "source": [
    "movies"
   ]
  },
  {
   "cell_type": "markdown",
   "metadata": {},
   "source": [
    "### Data Preprocessing"
   ]
  },
  {
   "cell_type": "markdown",
   "metadata": {},
   "source": [
    "The following function do the cleaning of each review. That is, the function will eliminate the html codes, symbols etc which are not relevent for the reviews"
   ]
  },
  {
   "cell_type": "code",
   "execution_count": 4,
   "metadata": {},
   "outputs": [],
   "source": [
    "def cleaning_data(string):\n",
    "    text = BeautifulSoup(string).get_text()\n",
    "    clean_text = re.sub(\"[^a-z\\s]+\", \" \", text)  \n",
    "    clean_text = re.sub(\"(\\s+)\", \" \", clean_text)\n",
    "    return clean_text"
   ]
  },
  {
   "cell_type": "markdown",
   "metadata": {},
   "source": [
    "We also remove the stop words because these words does not depect any positive or negative sentiment and hence unnecessary for our cause."
   ]
  },
  {
   "cell_type": "code",
   "execution_count": 5,
   "metadata": {},
   "outputs": [
    {
     "name": "stdout",
     "output_type": "stream",
     "text": [
      "a,able,about,across,after,all,almost,also,am,among,an,and,any,are,as,at,be,because,been,but,by,can,cannot,could,dear,did,do,does,either,else,ever,every,for,from,get,got,had,has,have,he,her,hers,him,his,how,however,i,if,in,into,is,it,its,just,least,let,like,likely,may,me,might,most,must,my,neither,no,nor,not,of,off,often,on,only,or,other,our,own,rather,said,say,says,she,should,since,so,some,than,that,the,their,them,then,there,these,they,this,tis,to,too,twas,us,wants,was,we,were,what,when,where,which,while,who,whom,why,will,with,would,yet,you,your\n"
     ]
    }
   ],
   "source": [
    "with open(\"stopwords.txt\") as f:   # Downloading the stopwords file\n",
    "    stops = f.read()\n",
    "\n",
    "print(stops)"
   ]
  },
  {
   "cell_type": "code",
   "execution_count": 6,
   "metadata": {},
   "outputs": [],
   "source": [
    "def tokenize_text(string):\n",
    "    l = [w for w in re.split(\"\\W+\", string) if not w in stops]\n",
    "    return l"
   ]
  },
  {
   "cell_type": "markdown",
   "metadata": {},
   "source": [
    "Here we start the processing of our training data into the dataframe. We start by creating a bag of words which contains the words from the reviews."
   ]
  },
  {
   "cell_type": "code",
   "execution_count": 8,
   "metadata": {},
   "outputs": [],
   "source": [
    "counter_pos = Counter([])\n",
    "counter_neg = Counter([])\n",
    "\n",
    "X_train, X_test, y_train, y_test = train_test_split(movies['review'], \n",
    "                                                    movies['sentiment'], \n",
    "                                                    test_size=0.2, \n",
    "                                                    random_state=42)\n",
    "\n",
    "n = len(X_train)\n",
    "for i in range(len(X_train)):\n",
    "    words = movies.loc[i,'review']\n",
    "    words = cleaning_data(words)    \n",
    "    words = tokenize_text(words)\n",
    "    \n",
    "    if movies.loc[i,'sentiment'] == \"positive\":\n",
    "        counter_pos += Counter(words)\n",
    "    else:\n",
    "        counter_neg += Counter(words)\n"
   ]
  },
  {
   "cell_type": "code",
   "execution_count": 9,
   "metadata": {},
   "outputs": [],
   "source": [
    "d = {\"Negative\":counter_neg,\"Positive\":counter_pos}"
   ]
  },
  {
   "cell_type": "markdown",
   "metadata": {},
   "source": [
    "Now we will count the number of times a word appear in positive and negative reviews."
   ]
  },
  {
   "cell_type": "code",
   "execution_count": 10,
   "metadata": {},
   "outputs": [
    {
     "data": {
      "text/html": [
       "<div>\n",
       "<style scoped>\n",
       "    .dataframe tbody tr th:only-of-type {\n",
       "        vertical-align: middle;\n",
       "    }\n",
       "\n",
       "    .dataframe tbody tr th {\n",
       "        vertical-align: top;\n",
       "    }\n",
       "\n",
       "    .dataframe thead th {\n",
       "        text-align: right;\n",
       "    }\n",
       "</style>\n",
       "<table border=\"1\" class=\"dataframe\">\n",
       "  <thead>\n",
       "    <tr style=\"text-align: right;\">\n",
       "      <th></th>\n",
       "      <th>Negative</th>\n",
       "      <th>Positive</th>\n",
       "    </tr>\n",
       "  </thead>\n",
       "  <tbody>\n",
       "    <tr>\n",
       "      <th>film</th>\n",
       "      <td>15394</td>\n",
       "      <td>16576</td>\n",
       "    </tr>\n",
       "    <tr>\n",
       "      <th>absolutely</th>\n",
       "      <td>685</td>\n",
       "      <td>512</td>\n",
       "    </tr>\n",
       "    <tr>\n",
       "      <th>awful</th>\n",
       "      <td>1226</td>\n",
       "      <td>129</td>\n",
       "    </tr>\n",
       "    <tr>\n",
       "      <th>nevertheless</th>\n",
       "      <td>58</td>\n",
       "      <td>122</td>\n",
       "    </tr>\n",
       "    <tr>\n",
       "      <th>hilarious</th>\n",
       "      <td>306</td>\n",
       "      <td>476</td>\n",
       "    </tr>\n",
       "    <tr>\n",
       "      <th>...</th>\n",
       "      <td>...</td>\n",
       "      <td>...</td>\n",
       "    </tr>\n",
       "    <tr>\n",
       "      <th>landscaped</th>\n",
       "      <td>0</td>\n",
       "      <td>1</td>\n",
       "    </tr>\n",
       "    <tr>\n",
       "      <th>lachlin</th>\n",
       "      <td>0</td>\n",
       "      <td>1</td>\n",
       "    </tr>\n",
       "    <tr>\n",
       "      <th>bruiser</th>\n",
       "      <td>0</td>\n",
       "      <td>1</td>\n",
       "    </tr>\n",
       "    <tr>\n",
       "      <th>disbelievable</th>\n",
       "      <td>0</td>\n",
       "      <td>1</td>\n",
       "    </tr>\n",
       "    <tr>\n",
       "      <th>flipside</th>\n",
       "      <td>0</td>\n",
       "      <td>1</td>\n",
       "    </tr>\n",
       "  </tbody>\n",
       "</table>\n",
       "<p>67643 rows × 2 columns</p>\n",
       "</div>"
      ],
      "text/plain": [
       "               Negative  Positive\n",
       "film              15394     16576\n",
       "absolutely          685       512\n",
       "awful              1226       129\n",
       "nevertheless         58       122\n",
       "hilarious           306       476\n",
       "...                 ...       ...\n",
       "landscaped            0         1\n",
       "lachlin               0         1\n",
       "bruiser               0         1\n",
       "disbelievable         0         1\n",
       "flipside              0         1\n",
       "\n",
       "[67643 rows x 2 columns]"
      ]
     },
     "execution_count": 10,
     "metadata": {},
     "output_type": "execute_result"
    }
   ],
   "source": [
    "wc = pd.DataFrame(d)\n",
    "wc = wc.fillna(0)\n",
    "wc.Negative = wc.Negative.astype(int)\n",
    "wc.Positive = wc.Positive.astype(int)\n",
    "wc"
   ]
  },
  {
   "cell_type": "markdown",
   "metadata": {},
   "source": [
    "Therefore the dataframe wc is our required dataframe.\n",
    "\n",
    "Now as we have successfully constructed the required dataframe, we will implement the Naive Bayes model on the movie review dataset."
   ]
  },
  {
   "cell_type": "markdown",
   "metadata": {},
   "source": [
    "### Naive Bayes Implementation"
   ]
  },
  {
   "cell_type": "code",
   "execution_count": 11,
   "metadata": {},
   "outputs": [],
   "source": [
    "def rev_probs(review_text, alpha = 1.0):\n",
    "\n",
    "    tot = np.array(wc.sum()).sum()\n",
    "    prod = np.ones(2)\n",
    "    prod[0] = wc['Negative'].sum()/(tot)\n",
    "    prod[1] = wc['Positive'].sum()/(tot)\n",
    "    prod = np.log(prod)\n",
    "\n",
    "    words = cleaning_data(review_text).lower()\n",
    "    words = tokenize_text(words)\n",
    "    for word in words:\n",
    "        word = word.lower()\n",
    "        if word not in stops and word in list(wc.index):\n",
    "            w = wc.loc[word]        \n",
    "            p = (w+alpha)/(np.array(wc.sum())+ 2*alpha) # The probability P[x|y] with laplace smoothing       \n",
    "            prod += np.log(np.array(p))\n",
    "            \n",
    "    return prod"
   ]
  },
  {
   "cell_type": "markdown",
   "metadata": {},
   "source": [
    "As an example we conside the following review and check if our model successfully able to figure out if the review is positive."
   ]
  },
  {
   "cell_type": "code",
   "execution_count": 12,
   "metadata": {},
   "outputs": [],
   "source": [
    "review = \"\"\"I saw this recent Woody Allen film because I\\'m a fan of\n",
    "his work and I make it a point to try to see everything he does, though\n",
    "the reviews of this film led me to expect a disappointing effort. They were right.\n",
    "This is a confused movie that can\\'t decide whether it wants to be a comedy,\n",
    "a romantic fantasy, or a drama about female mid-life crisis. It fails at all three.\n",
    "<br /><br />Alice (Mia Farrow) is a restless middle aged woman who has married into\n",
    "great wealth and leads a life of aimless luxury with her rather boring husband and\n",
    "their two small children. This rather mundane plot concept is livened up with such\n",
    "implausibilities as an old Chinese folk healer who makes her invisible with some magic\n",
    "herbs, and the ghost of a former lover (with whom she flies over Manhattan). If these\n",
    "additions sound too fantastic for you, how about something more prosaic, like an affair\n",
    "with a saxophone player?<br /><br />I was never quite sure of what this mixed up muddle\n",
    "was trying to say. There are only a handful of truly funny moments in the film,\n",
    "and the endingis a really preposterous touch of Pollyanna.<br /><br />Rent \\'Crimes and\n",
    "Misdemeanors\\' instead, a superbly well-done film that suceeds in combining comedy with\n",
    "a serious consideration of ethics and morals. Or go back to \"Annie Hall\" or \"Manhattan\".\"\"\""
   ]
  },
  {
   "cell_type": "code",
   "execution_count": 13,
   "metadata": {},
   "outputs": [
    {
     "data": {
      "text/plain": [
       "array([-878.29118717, -884.64099757])"
      ]
     },
     "execution_count": 13,
     "metadata": {},
     "output_type": "execute_result"
    }
   ],
   "source": [
    "rev_probs(review)"
   ]
  },
  {
   "cell_type": "code",
   "execution_count": 14,
   "metadata": {},
   "outputs": [
    {
     "data": {
      "text/plain": [
       "pandas.core.series.Series"
      ]
     },
     "execution_count": 14,
     "metadata": {},
     "output_type": "execute_result"
    }
   ],
   "source": [
    "type(X_test)"
   ]
  },
  {
   "cell_type": "markdown",
   "metadata": {},
   "source": [
    "Since prod[0] > prod[1] $\\implies$ the given review is a negative review according to the Naive Bayes model, which is correct."
   ]
  },
  {
   "cell_type": "markdown",
   "metadata": {},
   "source": [
    "Now we will implement this model for our test set and see how it performs."
   ]
  },
  {
   "cell_type": "code",
   "execution_count": 15,
   "metadata": {},
   "outputs": [
    {
     "name": "stderr",
     "output_type": "stream",
     "text": [
      "100%|██████████| 5000/5000 [1:06:20<00:00,  1.26it/s]\n"
     ]
    }
   ],
   "source": [
    "from tqdm import tqdm\n",
    "Y_pred = pd.DataFrame(columns = [\"sentiment\"])\n",
    "for review in tqdm(X_test):\n",
    "    prod = rev_probs(review)\n",
    "    if prod[0] >= prod[1]:\n",
    "        Y_pred.loc[len(Y_pred.index)] = [\"negative\"] \n",
    "    else:\n",
    "        Y_pred.loc[len(Y_pred.index)] = [\"positive\"]"
   ]
  },
  {
   "cell_type": "code",
   "execution_count": 16,
   "metadata": {},
   "outputs": [],
   "source": [
    "prediction = pd.DataFrame(columns = [\"Y_pred\", \"Y_test\"])\n",
    "prediction[\"Y_pred\"] = Y_pred[\"sentiment\"]\n",
    "prediction[\"Y_test\"] = list(y_test)"
   ]
  },
  {
   "cell_type": "code",
   "execution_count": 17,
   "metadata": {},
   "outputs": [
    {
     "data": {
      "text/html": [
       "<div>\n",
       "<style scoped>\n",
       "    .dataframe tbody tr th:only-of-type {\n",
       "        vertical-align: middle;\n",
       "    }\n",
       "\n",
       "    .dataframe tbody tr th {\n",
       "        vertical-align: top;\n",
       "    }\n",
       "\n",
       "    .dataframe thead th {\n",
       "        text-align: right;\n",
       "    }\n",
       "</style>\n",
       "<table border=\"1\" class=\"dataframe\">\n",
       "  <thead>\n",
       "    <tr style=\"text-align: right;\">\n",
       "      <th></th>\n",
       "      <th>Y_pred</th>\n",
       "      <th>Y_test</th>\n",
       "    </tr>\n",
       "  </thead>\n",
       "  <tbody>\n",
       "    <tr>\n",
       "      <th>0</th>\n",
       "      <td>negative</td>\n",
       "      <td>negative</td>\n",
       "    </tr>\n",
       "    <tr>\n",
       "      <th>1</th>\n",
       "      <td>negative</td>\n",
       "      <td>positive</td>\n",
       "    </tr>\n",
       "    <tr>\n",
       "      <th>2</th>\n",
       "      <td>negative</td>\n",
       "      <td>negative</td>\n",
       "    </tr>\n",
       "    <tr>\n",
       "      <th>3</th>\n",
       "      <td>positive</td>\n",
       "      <td>positive</td>\n",
       "    </tr>\n",
       "    <tr>\n",
       "      <th>4</th>\n",
       "      <td>negative</td>\n",
       "      <td>negative</td>\n",
       "    </tr>\n",
       "    <tr>\n",
       "      <th>...</th>\n",
       "      <td>...</td>\n",
       "      <td>...</td>\n",
       "    </tr>\n",
       "    <tr>\n",
       "      <th>4995</th>\n",
       "      <td>positive</td>\n",
       "      <td>positive</td>\n",
       "    </tr>\n",
       "    <tr>\n",
       "      <th>4996</th>\n",
       "      <td>positive</td>\n",
       "      <td>positive</td>\n",
       "    </tr>\n",
       "    <tr>\n",
       "      <th>4997</th>\n",
       "      <td>negative</td>\n",
       "      <td>positive</td>\n",
       "    </tr>\n",
       "    <tr>\n",
       "      <th>4998</th>\n",
       "      <td>positive</td>\n",
       "      <td>positive</td>\n",
       "    </tr>\n",
       "    <tr>\n",
       "      <th>4999</th>\n",
       "      <td>negative</td>\n",
       "      <td>negative</td>\n",
       "    </tr>\n",
       "  </tbody>\n",
       "</table>\n",
       "<p>5000 rows × 2 columns</p>\n",
       "</div>"
      ],
      "text/plain": [
       "        Y_pred    Y_test\n",
       "0     negative  negative\n",
       "1     negative  positive\n",
       "2     negative  negative\n",
       "3     positive  positive\n",
       "4     negative  negative\n",
       "...        ...       ...\n",
       "4995  positive  positive\n",
       "4996  positive  positive\n",
       "4997  negative  positive\n",
       "4998  positive  positive\n",
       "4999  negative  negative\n",
       "\n",
       "[5000 rows x 2 columns]"
      ]
     },
     "execution_count": 17,
     "metadata": {},
     "output_type": "execute_result"
    }
   ],
   "source": [
    "prediction"
   ]
  },
  {
   "cell_type": "code",
   "execution_count": 18,
   "metadata": {},
   "outputs": [],
   "source": [
    "from sklearn.metrics import accuracy_score"
   ]
  },
  {
   "cell_type": "code",
   "execution_count": 19,
   "metadata": {},
   "outputs": [
    {
     "name": "stdout",
     "output_type": "stream",
     "text": [
      "The accuracy of the given model is  90.44 %\n"
     ]
    }
   ],
   "source": [
    "print(\"The accuracy of the given model is \", accuracy_score(prediction[\"Y_pred\"], prediction[\"Y_test\"])*100, \"%\")"
   ]
  },
  {
   "cell_type": "markdown",
   "metadata": {},
   "source": [
    "Therefore the accuracy of our model is about 90%, i.e. our model has correctly tell us if the review is positive or negative about 90% of the time."
   ]
  },
  {
   "cell_type": "markdown",
   "metadata": {},
   "source": [
    "## Presidential Debate"
   ]
  },
  {
   "cell_type": "markdown",
   "metadata": {},
   "source": [
    "The aim of studying the presidential debate transcripts is to study how well naive Bayes classifier can predict which person is speaking during a debate. We will implement the model for the Presidential Debate at Case Western Reserve University and Cleveland Clinic in Cleveland, Ohio, which too place on September 29th 2020.\n",
    "\n",
    "We will use the same idea as in the above model. We count the number of times a words appear in the text spoken by Biden, Trump and Wallace. After constructing this dataset, we will implement the Naive Bayes model.\n",
    "\n",
    "We start by scrapping the webpage containing the debate."
   ]
  },
  {
   "cell_type": "code",
   "execution_count": 8,
   "metadata": {},
   "outputs": [],
   "source": [
    "url = \"https://www.debates.org/voter-education/debate-transcripts/september-29-2020-debate-transcript/\""
   ]
  },
  {
   "cell_type": "code",
   "execution_count": 9,
   "metadata": {},
   "outputs": [],
   "source": [
    "text = requests.get(url).text\n",
    "soup = BeautifulSoup(text, \"html.parser\")\n",
    "page = soup.find(id = \"content-sm\")"
   ]
  },
  {
   "cell_type": "code",
   "execution_count": 10,
   "metadata": {},
   "outputs": [],
   "source": [
    "debate = page.findAll(\"p\")"
   ]
  },
  {
   "cell_type": "markdown",
   "metadata": {},
   "source": [
    "Now we will construct a dataframe which contains the text spoken by Biden, Trump and Wallace."
   ]
  },
  {
   "cell_type": "code",
   "execution_count": 11,
   "metadata": {},
   "outputs": [],
   "source": [
    "df = pd.DataFrame(columns = [\"Text\", \"Speaker\"])\n",
    "for p in debate:\n",
    "    if 'BIDEN:' in p.text:\n",
    "        df.loc[len(df)] = {\"Text\": p.text.strip(\"BIDEN:\"), 'Speaker': \"BIDEN\" }\n",
    "    \n",
    "    elif \"TRUMP:\" in p.text:\n",
    "        df.loc[len(df)] = {\"Text\": p.text.strip(\"TRUMP:\"), 'Speaker': \"TRUMP\" }\n",
    "    \n",
    "    elif \"WALLACE:\" in p.text:\n",
    "        df.loc[len(df)] = {\"Text\": p.text.strip(\"WALLACE:\"), 'Speaker': \"WALLACE\" }"
   ]
  },
  {
   "cell_type": "code",
   "execution_count": 12,
   "metadata": {},
   "outputs": [
    {
     "data": {
      "text/html": [
       "<div>\n",
       "<style scoped>\n",
       "    .dataframe tbody tr th:only-of-type {\n",
       "        vertical-align: middle;\n",
       "    }\n",
       "\n",
       "    .dataframe tbody tr th {\n",
       "        vertical-align: top;\n",
       "    }\n",
       "\n",
       "    .dataframe thead th {\n",
       "        text-align: right;\n",
       "    }\n",
       "</style>\n",
       "<table border=\"1\" class=\"dataframe\">\n",
       "  <thead>\n",
       "    <tr style=\"text-align: right;\">\n",
       "      <th></th>\n",
       "      <th>Text</th>\n",
       "      <th>Speaker</th>\n",
       "    </tr>\n",
       "  </thead>\n",
       "  <tbody>\n",
       "    <tr>\n",
       "      <th>0</th>\n",
       "      <td>Good evening from the Health Education Campus...</td>\n",
       "      <td>WALLACE</td>\n",
       "    </tr>\n",
       "    <tr>\n",
       "      <th>1</th>\n",
       "      <td>How you doing, man?</td>\n",
       "      <td>BIDEN</td>\n",
       "    </tr>\n",
       "    <tr>\n",
       "      <th>2</th>\n",
       "      <td>How are you doing?</td>\n",
       "      <td>TRUMP</td>\n",
       "    </tr>\n",
       "    <tr>\n",
       "      <th>3</th>\n",
       "      <td>I’m well.</td>\n",
       "      <td>BIDEN</td>\n",
       "    </tr>\n",
       "    <tr>\n",
       "      <th>4</th>\n",
       "      <td>Gentlemen, a lot of people have been waiting ...</td>\n",
       "      <td>WALLACE</td>\n",
       "    </tr>\n",
       "    <tr>\n",
       "      <th>...</th>\n",
       "      <td>...</td>\n",
       "      <td>...</td>\n",
       "    </tr>\n",
       "    <tr>\n",
       "      <th>851</th>\n",
       "      <td>Gentlemen, just say that’s the end of it [cro...</td>\n",
       "      <td>WALLACE</td>\n",
       "    </tr>\n",
       "    <tr>\n",
       "      <th>852</th>\n",
       "      <td>I want to see an honest ballot count.</td>\n",
       "      <td>TRUMP</td>\n",
       "    </tr>\n",
       "    <tr>\n",
       "      <th>853</th>\n",
       "      <td>We’re going to leave it there. . .</td>\n",
       "      <td>WALLACE</td>\n",
       "    </tr>\n",
       "    <tr>\n",
       "      <th>854</th>\n",
       "      <td>And I think he does too. . .</td>\n",
       "      <td>TRUMP</td>\n",
       "    </tr>\n",
       "    <tr>\n",
       "      <th>855</th>\n",
       "      <td>… to be continued in more debates as we go on...</td>\n",
       "      <td>WALLACE</td>\n",
       "    </tr>\n",
       "  </tbody>\n",
       "</table>\n",
       "<p>856 rows × 2 columns</p>\n",
       "</div>"
      ],
      "text/plain": [
       "                                                  Text  Speaker\n",
       "0     Good evening from the Health Education Campus...  WALLACE\n",
       "1                                  How you doing, man?    BIDEN\n",
       "2                                   How are you doing?    TRUMP\n",
       "3                                            I’m well.    BIDEN\n",
       "4     Gentlemen, a lot of people have been waiting ...  WALLACE\n",
       "..                                                 ...      ...\n",
       "851   Gentlemen, just say that’s the end of it [cro...  WALLACE\n",
       "852              I want to see an honest ballot count.    TRUMP\n",
       "853                 We’re going to leave it there. . .  WALLACE\n",
       "854                       And I think he does too. . .    TRUMP\n",
       "855   … to be continued in more debates as we go on...  WALLACE\n",
       "\n",
       "[856 rows x 2 columns]"
      ]
     },
     "execution_count": 12,
     "metadata": {},
     "output_type": "execute_result"
    }
   ],
   "source": [
    "df"
   ]
  },
  {
   "cell_type": "code",
   "execution_count": 13,
   "metadata": {},
   "outputs": [],
   "source": [
    "df[\"Text\"] = df[\"Text\"].str.lower() "
   ]
  },
  {
   "cell_type": "markdown",
   "metadata": {},
   "source": [
    "Now we will construct the dataframe which will be our bag of words"
   ]
  },
  {
   "cell_type": "code",
   "execution_count": 14,
   "metadata": {},
   "outputs": [],
   "source": [
    "counter_biden = Counter([])\n",
    "counter_trump = Counter([])\n",
    "counter_wallace = Counter([])\n",
    "\n",
    "X_train, X_test, y_train, y_test = train_test_split(df['Text'], \n",
    "                                                    df['Speaker'], \n",
    "                                                    train_size = 0.8,\n",
    "                                                    test_size=0.2, \n",
    "                                                    random_state=42)\n",
    "\n",
    "n = len(X_train)\n",
    "for i in range(len(X_train)):\n",
    "    words = df.loc[i,'Text'].lower()\n",
    "    words = cleaning_data(words)    \n",
    "    words = tokenize_text(words)\n",
    "    \n",
    "    if df.loc[i,'Speaker'] == \"BIDEN\":\n",
    "        counter_biden += Counter(words)\n",
    "    elif df.loc[i, \"Speaker\"] == \"TRUMP\":\n",
    "        counter_trump += Counter(words)\n",
    "    elif df.loc[i, \"Speaker\"] == \"WALLACE\":\n",
    "        counter_wallace += Counter(words)"
   ]
  },
  {
   "cell_type": "code",
   "execution_count": 15,
   "metadata": {},
   "outputs": [],
   "source": [
    "d = {\"Biden\":counter_biden,\"Trump\":counter_trump, \"Wallace\": counter_wallace}"
   ]
  },
  {
   "cell_type": "code",
   "execution_count": 16,
   "metadata": {},
   "outputs": [],
   "source": [
    "wc = pd.DataFrame(d)\n",
    "wc = wc.fillna(0)\n",
    "wc.Biden = wc.Biden.astype(int)\n",
    "wc.Trump = wc.Trump.astype(int)\n",
    "wc.Wallace = wc.Wallace.astype(int)"
   ]
  },
  {
   "cell_type": "code",
   "execution_count": 17,
   "metadata": {},
   "outputs": [
    {
     "data": {
      "text/html": [
       "<div>\n",
       "<style scoped>\n",
       "    .dataframe tbody tr th:only-of-type {\n",
       "        vertical-align: middle;\n",
       "    }\n",
       "\n",
       "    .dataframe tbody tr th {\n",
       "        vertical-align: top;\n",
       "    }\n",
       "\n",
       "    .dataframe thead th {\n",
       "        text-align: right;\n",
       "    }\n",
       "</style>\n",
       "<table border=\"1\" class=\"dataframe\">\n",
       "  <thead>\n",
       "    <tr style=\"text-align: right;\">\n",
       "      <th></th>\n",
       "      <th>Biden</th>\n",
       "      <th>Trump</th>\n",
       "      <th>Wallace</th>\n",
       "    </tr>\n",
       "  </thead>\n",
       "  <tbody>\n",
       "    <tr>\n",
       "      <th>doing</th>\n",
       "      <td>9</td>\n",
       "      <td>10</td>\n",
       "      <td>1</td>\n",
       "    </tr>\n",
       "    <tr>\n",
       "      <th>man</th>\n",
       "      <td>7</td>\n",
       "      <td>2</td>\n",
       "      <td>0</td>\n",
       "    </tr>\n",
       "    <tr>\n",
       "      <th>well</th>\n",
       "      <td>20</td>\n",
       "      <td>20</td>\n",
       "      <td>10</td>\n",
       "    </tr>\n",
       "    <tr>\n",
       "      <th>first</th>\n",
       "      <td>3</td>\n",
       "      <td>2</td>\n",
       "      <td>17</td>\n",
       "    </tr>\n",
       "    <tr>\n",
       "      <th>thank</th>\n",
       "      <td>1</td>\n",
       "      <td>2</td>\n",
       "      <td>1</td>\n",
       "    </tr>\n",
       "    <tr>\n",
       "      <th>...</th>\n",
       "      <td>...</td>\n",
       "      <td>...</td>\n",
       "      <td>...</td>\n",
       "    </tr>\n",
       "    <tr>\n",
       "      <th>science</th>\n",
       "      <td>0</td>\n",
       "      <td>0</td>\n",
       "      <td>3</td>\n",
       "    </tr>\n",
       "    <tr>\n",
       "      <th>pulled</th>\n",
       "      <td>0</td>\n",
       "      <td>0</td>\n",
       "      <td>1</td>\n",
       "    </tr>\n",
       "    <tr>\n",
       "      <th>rolled</th>\n",
       "      <td>0</td>\n",
       "      <td>0</td>\n",
       "      <td>1</td>\n",
       "    </tr>\n",
       "    <tr>\n",
       "      <th>environmental</th>\n",
       "      <td>0</td>\n",
       "      <td>0</td>\n",
       "      <td>1</td>\n",
       "    </tr>\n",
       "    <tr>\n",
       "      <th>confront</th>\n",
       "      <td>0</td>\n",
       "      <td>0</td>\n",
       "      <td>1</td>\n",
       "    </tr>\n",
       "  </tbody>\n",
       "</table>\n",
       "<p>1531 rows × 3 columns</p>\n",
       "</div>"
      ],
      "text/plain": [
       "               Biden  Trump  Wallace\n",
       "doing              9     10        1\n",
       "man                7      2        0\n",
       "well              20     20       10\n",
       "first              3      2       17\n",
       "thank              1      2        1\n",
       "...              ...    ...      ...\n",
       "science            0      0        3\n",
       "pulled             0      0        1\n",
       "rolled             0      0        1\n",
       "environmental      0      0        1\n",
       "confront           0      0        1\n",
       "\n",
       "[1531 rows x 3 columns]"
      ]
     },
     "execution_count": 17,
     "metadata": {},
     "output_type": "execute_result"
    }
   ],
   "source": [
    "wc"
   ]
  },
  {
   "cell_type": "markdown",
   "metadata": {},
   "source": [
    "### Implementation of Naive Bayes for Presidential Debate 2020"
   ]
  },
  {
   "cell_type": "code",
   "execution_count": 18,
   "metadata": {},
   "outputs": [],
   "source": [
    "def rev_probs(review_text, alpha = 1.0):\n",
    "\n",
    "    tot = np.array(wc.sum()).sum()\n",
    "    prod = np.ones(3)\n",
    "    prod[0] = wc['Biden'].sum()/(tot)\n",
    "    prod[1] = wc['Trump'].sum()/(tot)\n",
    "    prod[2] = wc[\"Wallace\"].sum()/(tot)\n",
    "    prod = np.log(prod)\n",
    "\n",
    "    words = cleaning_data(review_text).lower()\n",
    "    words = tokenize_text(words)\n",
    "    for word in words:\n",
    "        word = word.lower()\n",
    "        if word not in stops and word in list(wc.index):\n",
    "            w = wc.loc[word]        \n",
    "            p = (w+alpha)/(np.array(wc.sum())+ 2*alpha) # The probability P[x|y] with laplace smoothing       \n",
    "            prod += np.log(np.array(p))\n",
    "            \n",
    "    return prod"
   ]
  },
  {
   "cell_type": "code",
   "execution_count": 19,
   "metadata": {},
   "outputs": [
    {
     "name": "stderr",
     "output_type": "stream",
     "text": [
      "100%|██████████| 172/172 [00:01<00:00, 139.14it/s]\n"
     ]
    }
   ],
   "source": [
    "Y_pred = pd.DataFrame(columns = [\"Speaker\"])\n",
    "for text in tqdm(X_test):\n",
    "    prod = rev_probs(text)\n",
    "    loc = prod.argmax()\n",
    "    if loc == 0:\n",
    "        Y_pred.loc[len(Y_pred.index)] = [\"BIDEN\"] \n",
    "    elif loc == 1:\n",
    "        Y_pred.loc[len(Y_pred.index)] = [\"TRUMP\"]\n",
    "    else:\n",
    "        Y_pred.loc[len(Y_pred.index)] = [\"WALLACE\"]"
   ]
  },
  {
   "cell_type": "code",
   "execution_count": 20,
   "metadata": {},
   "outputs": [
    {
     "data": {
      "text/html": [
       "<div>\n",
       "<style scoped>\n",
       "    .dataframe tbody tr th:only-of-type {\n",
       "        vertical-align: middle;\n",
       "    }\n",
       "\n",
       "    .dataframe tbody tr th {\n",
       "        vertical-align: top;\n",
       "    }\n",
       "\n",
       "    .dataframe thead th {\n",
       "        text-align: right;\n",
       "    }\n",
       "</style>\n",
       "<table border=\"1\" class=\"dataframe\">\n",
       "  <thead>\n",
       "    <tr style=\"text-align: right;\">\n",
       "      <th></th>\n",
       "      <th>Speaker</th>\n",
       "    </tr>\n",
       "  </thead>\n",
       "  <tbody>\n",
       "    <tr>\n",
       "      <th>0</th>\n",
       "      <td>BIDEN</td>\n",
       "    </tr>\n",
       "    <tr>\n",
       "      <th>1</th>\n",
       "      <td>WALLACE</td>\n",
       "    </tr>\n",
       "    <tr>\n",
       "      <th>2</th>\n",
       "      <td>WALLACE</td>\n",
       "    </tr>\n",
       "    <tr>\n",
       "      <th>3</th>\n",
       "      <td>TRUMP</td>\n",
       "    </tr>\n",
       "    <tr>\n",
       "      <th>4</th>\n",
       "      <td>BIDEN</td>\n",
       "    </tr>\n",
       "    <tr>\n",
       "      <th>...</th>\n",
       "      <td>...</td>\n",
       "    </tr>\n",
       "    <tr>\n",
       "      <th>167</th>\n",
       "      <td>BIDEN</td>\n",
       "    </tr>\n",
       "    <tr>\n",
       "      <th>168</th>\n",
       "      <td>TRUMP</td>\n",
       "    </tr>\n",
       "    <tr>\n",
       "      <th>169</th>\n",
       "      <td>WALLACE</td>\n",
       "    </tr>\n",
       "    <tr>\n",
       "      <th>170</th>\n",
       "      <td>TRUMP</td>\n",
       "    </tr>\n",
       "    <tr>\n",
       "      <th>171</th>\n",
       "      <td>TRUMP</td>\n",
       "    </tr>\n",
       "  </tbody>\n",
       "</table>\n",
       "<p>172 rows × 1 columns</p>\n",
       "</div>"
      ],
      "text/plain": [
       "     Speaker\n",
       "0      BIDEN\n",
       "1    WALLACE\n",
       "2    WALLACE\n",
       "3      TRUMP\n",
       "4      BIDEN\n",
       "..       ...\n",
       "167    BIDEN\n",
       "168    TRUMP\n",
       "169  WALLACE\n",
       "170    TRUMP\n",
       "171    TRUMP\n",
       "\n",
       "[172 rows x 1 columns]"
      ]
     },
     "execution_count": 20,
     "metadata": {},
     "output_type": "execute_result"
    }
   ],
   "source": [
    "Y_pred"
   ]
  },
  {
   "cell_type": "code",
   "execution_count": 21,
   "metadata": {},
   "outputs": [],
   "source": [
    "prediction = pd.DataFrame(columns = [\"Y_pred\", \"Y_test\"])\n",
    "prediction[\"Y_pred\"] = Y_pred[\"Speaker\"]\n",
    "prediction[\"Y_test\"] = list(y_test)"
   ]
  },
  {
   "cell_type": "code",
   "execution_count": 22,
   "metadata": {},
   "outputs": [
    {
     "name": "stdout",
     "output_type": "stream",
     "text": [
      "The accuracy of the given model is  84.88372093023256 %\n"
     ]
    }
   ],
   "source": [
    "print(\"The accuracy of the given model is \", accuracy_score(prediction[\"Y_pred\"], prediction[\"Y_test\"])*100, \"%\")"
   ]
  },
  {
   "cell_type": "markdown",
   "metadata": {},
   "source": [
    "Therefore the accuracy of our model is about 85%, i.e. our model has correctly tell us if the review is positive or negative about 85% of the time."
   ]
  },
  {
   "cell_type": "markdown",
   "metadata": {},
   "source": [
    "Let us see what are some examples which our programme has incorrectly identified."
   ]
  },
  {
   "cell_type": "code",
   "execution_count": 28,
   "metadata": {},
   "outputs": [],
   "source": [
    "df = pd.DataFrame(columns = [\"y_predicted\", \"y_test\"])\n",
    "df[\"y_predicted\"] = Y_pred\n",
    "df[\"y_test\"] = list(y_test)"
   ]
  },
  {
   "cell_type": "code",
   "execution_count": 29,
   "metadata": {},
   "outputs": [
    {
     "data": {
      "text/html": [
       "<div>\n",
       "<style scoped>\n",
       "    .dataframe tbody tr th:only-of-type {\n",
       "        vertical-align: middle;\n",
       "    }\n",
       "\n",
       "    .dataframe tbody tr th {\n",
       "        vertical-align: top;\n",
       "    }\n",
       "\n",
       "    .dataframe thead th {\n",
       "        text-align: right;\n",
       "    }\n",
       "</style>\n",
       "<table border=\"1\" class=\"dataframe\">\n",
       "  <thead>\n",
       "    <tr style=\"text-align: right;\">\n",
       "      <th></th>\n",
       "      <th>y_predicted</th>\n",
       "      <th>y_test</th>\n",
       "    </tr>\n",
       "  </thead>\n",
       "  <tbody>\n",
       "    <tr>\n",
       "      <th>0</th>\n",
       "      <td>BIDEN</td>\n",
       "      <td>TRUMP</td>\n",
       "    </tr>\n",
       "    <tr>\n",
       "      <th>1</th>\n",
       "      <td>WALLACE</td>\n",
       "      <td>TRUMP</td>\n",
       "    </tr>\n",
       "    <tr>\n",
       "      <th>2</th>\n",
       "      <td>WALLACE</td>\n",
       "      <td>WALLACE</td>\n",
       "    </tr>\n",
       "    <tr>\n",
       "      <th>3</th>\n",
       "      <td>TRUMP</td>\n",
       "      <td>TRUMP</td>\n",
       "    </tr>\n",
       "    <tr>\n",
       "      <th>4</th>\n",
       "      <td>BIDEN</td>\n",
       "      <td>BIDEN</td>\n",
       "    </tr>\n",
       "    <tr>\n",
       "      <th>...</th>\n",
       "      <td>...</td>\n",
       "      <td>...</td>\n",
       "    </tr>\n",
       "    <tr>\n",
       "      <th>167</th>\n",
       "      <td>BIDEN</td>\n",
       "      <td>BIDEN</td>\n",
       "    </tr>\n",
       "    <tr>\n",
       "      <th>168</th>\n",
       "      <td>TRUMP</td>\n",
       "      <td>TRUMP</td>\n",
       "    </tr>\n",
       "    <tr>\n",
       "      <th>169</th>\n",
       "      <td>WALLACE</td>\n",
       "      <td>TRUMP</td>\n",
       "    </tr>\n",
       "    <tr>\n",
       "      <th>170</th>\n",
       "      <td>TRUMP</td>\n",
       "      <td>TRUMP</td>\n",
       "    </tr>\n",
       "    <tr>\n",
       "      <th>171</th>\n",
       "      <td>TRUMP</td>\n",
       "      <td>TRUMP</td>\n",
       "    </tr>\n",
       "  </tbody>\n",
       "</table>\n",
       "<p>172 rows × 2 columns</p>\n",
       "</div>"
      ],
      "text/plain": [
       "    y_predicted   y_test\n",
       "0         BIDEN    TRUMP\n",
       "1       WALLACE    TRUMP\n",
       "2       WALLACE  WALLACE\n",
       "3         TRUMP    TRUMP\n",
       "4         BIDEN    BIDEN\n",
       "..          ...      ...\n",
       "167       BIDEN    BIDEN\n",
       "168       TRUMP    TRUMP\n",
       "169     WALLACE    TRUMP\n",
       "170       TRUMP    TRUMP\n",
       "171       TRUMP    TRUMP\n",
       "\n",
       "[172 rows x 2 columns]"
      ]
     },
     "execution_count": 29,
     "metadata": {},
     "output_type": "execute_result"
    }
   ],
   "source": [
    "df"
   ]
  },
  {
   "cell_type": "markdown",
   "metadata": {},
   "source": [
    "As we can see from above that the test set example 0 and 1 are incorrectly identified by our programme."
   ]
  },
  {
   "cell_type": "code",
   "execution_count": 35,
   "metadata": {},
   "outputs": [
    {
     "name": "stdout",
     "output_type": "stream",
     "text": [
      " … most ridiculous. . . where airplanes are out of business. where two car systems are out. . .\n"
     ]
    }
   ],
   "source": [
    "print(list(X_test)[0])"
   ]
  },
  {
   "cell_type": "code",
   "execution_count": 36,
   "metadata": {},
   "outputs": [
    {
     "name": "stdout",
     "output_type": "stream",
     "text": [
      " . . . we could, very quickly\n"
     ]
    }
   ],
   "source": [
    "print(list(X_test)[1])"
   ]
  },
  {
   "cell_type": "markdown",
   "metadata": {},
   "source": [
    "Now we will check how the difference in training datasize affect the accuracy of the model."
   ]
  },
  {
   "cell_type": "code",
   "execution_count": 35,
   "metadata": {},
   "outputs": [
    {
     "name": "stderr",
     "output_type": "stream",
     "text": [
      "100%|██████████| 172/172 [00:01<00:00, 97.69it/s]\n",
      "100%|██████████| 172/172 [00:01<00:00, 97.39it/s] \n",
      "100%|██████████| 172/172 [00:01<00:00, 122.42it/s]\n",
      "100%|██████████| 172/172 [00:02<00:00, 74.68it/s]\n",
      "100%|██████████| 172/172 [00:02<00:00, 69.74it/s]\n",
      "100%|██████████| 172/172 [00:02<00:00, 69.15it/s]\n",
      "100%|██████████| 172/172 [00:02<00:00, 64.80it/s]\n",
      "100%|██████████| 172/172 [00:02<00:00, 69.35it/s]\n"
     ]
    }
   ],
   "source": [
    "accuracy = np.zeros(9)\n",
    "for i in range(1, 9):\n",
    "    counter_biden = Counter([])\n",
    "    counter_trump = Counter([])\n",
    "    counter_wallace = Counter([])\n",
    "    X_train, X_test, y_train, y_test = train_test_split(df['Text'], \n",
    "                                                        df['Speaker'], \n",
    "                                                        train_size = i/10,\n",
    "                                                        test_size = 0.2,\n",
    "                                                        random_state=42)\n",
    "    n = len(X_train)\n",
    "    for j in range(len(X_train)):\n",
    "        words = df.loc[j,'Text'].lower()\n",
    "        words = cleaning_data(words)    \n",
    "        words = tokenize_text(words)\n",
    "\n",
    "        if df.loc[j,'Speaker'] == \"BIDEN\":\n",
    "            counter_biden += Counter(words)\n",
    "        elif df.loc[j, \"Speaker\"] == \"TRUMP\":\n",
    "            counter_trump += Counter(words)\n",
    "        elif df.loc[j, \"Speaker\"] == \"WALLACE\":\n",
    "            counter_wallace += Counter(words)\n",
    "\n",
    "    d = {\"Biden\":counter_biden,\"Trump\":counter_trump, \"Wallace\": counter_wallace}\n",
    "    wc = pd.DataFrame(d)\n",
    "    wc = wc.fillna(0)\n",
    "    wc.Biden = wc.Biden.astype(int)\n",
    "    wc.Trump = wc.Trump.astype(int)\n",
    "    wc.Wallace = wc.Wallace.astype(int)\n",
    "\n",
    "    def rev_probs(review_text, alpha = 1.0):\n",
    "\n",
    "        tot = np.array(wc.sum()).sum()\n",
    "        prod = np.ones(3)\n",
    "        prod[0] = wc['Biden'].sum()/(tot)\n",
    "        prod[1] = wc['Trump'].sum()/(tot)\n",
    "        prod[2] = wc[\"Wallace\"].sum()/(tot)\n",
    "        prod = np.log(prod)\n",
    "\n",
    "        words = cleaning_data(review_text).lower()\n",
    "        words = tokenize_text(words)\n",
    "        for word in words:\n",
    "            word = word.lower()\n",
    "            if word not in stops and word in list(wc.index):\n",
    "                w = wc.loc[word]        \n",
    "                p = (w+alpha)/(np.array(wc.sum())+ 2*alpha) # The probability P[x|y] with laplace smoothing       \n",
    "                prod += np.log(np.array(p))\n",
    "\n",
    "        return prod\n",
    "\n",
    "    Y_pred = pd.DataFrame(columns = [\"Speaker\"])\n",
    "    for text in tqdm(X_test):\n",
    "        prod = rev_probs(text)\n",
    "        loc = prod.argmax()\n",
    "        if loc == 0:\n",
    "            Y_pred.loc[len(Y_pred.index)] = [\"BIDEN\"] \n",
    "        elif loc == 1:\n",
    "            Y_pred.loc[len(Y_pred.index)] = [\"TRUMP\"]\n",
    "        else:\n",
    "            Y_pred.loc[len(Y_pred.index)] = [\"WALLACE\"]\n",
    "\n",
    "    prediction = pd.DataFrame(columns = [\"Y_pred\", \"Y_test\"])\n",
    "    prediction[\"Y_pred\"] = Y_pred[\"Speaker\"]\n",
    "    prediction[\"Y_test\"] = list(y_test)\n",
    "\n",
    "    accuracy[i] = accuracy_score(prediction[\"Y_pred\"], prediction[\"Y_test\"])*100"
   ]
  },
  {
   "cell_type": "code",
   "execution_count": 36,
   "metadata": {},
   "outputs": [
    {
     "data": {
      "text/plain": [
       "array([ 0.        , 61.62790698, 70.34883721, 73.25581395, 79.06976744,\n",
       "       81.97674419, 80.81395349, 82.55813953, 84.88372093])"
      ]
     },
     "execution_count": 36,
     "metadata": {},
     "output_type": "execute_result"
    }
   ],
   "source": [
    "accuracy"
   ]
  },
  {
   "cell_type": "markdown",
   "metadata": {},
   "source": [
    "Therefore the accuracy of the model increases as the size of the training data increases."
   ]
  },
  {
   "cell_type": "code",
   "execution_count": 37,
   "metadata": {},
   "outputs": [
    {
     "data": {
      "text/plain": [
       "[<matplotlib.lines.Line2D at 0x26fc66b5a30>]"
      ]
     },
     "execution_count": 37,
     "metadata": {},
     "output_type": "execute_result"
    },
    {
     "data": {
      "image/png": "[encoded data removed]",
      "text/plain": [
       "<Figure size 432x288 with 1 Axes>"
      ]
     },
     "metadata": {
      "needs_background": "light"
     },
     "output_type": "display_data"
    }
   ],
   "source": [
    "k = [0.1, 0.2, 0.3, 0.4, 0.5, 0.6, 0.7, 0.8, 0.9]\n",
    "fig, ax = plt.subplots()\n",
    "ax.plot(k, accuracy)"
   ]
  },
  {
   "cell_type": "markdown",
   "metadata": {},
   "source": [
    "Lets write some text samples on your own and get them classified."
   ]
  },
  {
   "cell_type": "code",
   "execution_count": 38,
   "metadata": {},
   "outputs": [
    {
     "name": "stdout",
     "output_type": "stream",
     "text": [
      "[-1.08825461 -0.97429526 -1.25268034]\n"
     ]
    }
   ],
   "source": [
    "review_text = \"Climate Change is a Myth.\"\n",
    "product = rev_probs(review_text, alpha = 1.0)\n",
    "print(product)"
   ]
  },
  {
   "cell_type": "markdown",
   "metadata": {},
   "source": [
    "We can see that for our example, Trump is most likely speaker of the above text with highest probablity."
   ]
  },
  {
   "cell_type": "code",
   "execution_count": 40,
   "metadata": {},
   "outputs": [
    {
     "name": "stdout",
     "output_type": "stream",
     "text": [
      "[-14.25022324 -14.65165348 -16.16558945]\n"
     ]
    }
   ],
   "source": [
    "review_text = \"America is great a nation.\"\n",
    "product = rev_probs(review_text, alpha = 1.0)\n",
    "print(product)"
   ]
  },
  {
   "cell_type": "markdown",
   "metadata": {},
   "source": [
    "In the above example, Biden is most likely speaker of the above text with highest probablity. Although it needs to important that both presidential candiate are likely to say that and probablities are really close."
   ]
  },
  {
   "cell_type": "markdown",
   "metadata": {},
   "source": [
    "It seems like our programme is working quite nicely."
   ]
  },
  {
   "cell_type": "markdown",
   "metadata": {},
   "source": [
    "# References"
   ]
  },
  {
   "cell_type": "markdown",
   "metadata": {},
   "source": [
    "1. Naive Bayes from sklearn, Accessed April 11, 2023. https://scikit-learn.org/stable/modules/naive_bayes.html\n",
    "2. Stack Overflow. Preprocessing steps to follow while cleaning and extracting text data from tweets, Accessed April 11, 2023. https://codereview.stackexchange.com/questions/163446/preprocessing-steps-to-follow-while-cleaning-and-extracting-text-data-from-tweet.\n",
    "3. Class Notes. Accessed April 11, 2023.\n",
    "4. Pandas API Library. Accessed April 11, 2023. https://pandas.pydata.org/docs/reference/frame.html.\n",
    "5. The commission on Presenditial Debate. Accessed April 11, 2023. https://www.debates.org/voter-education/debate-transcripts/september-29-2020-debate-transcript/.\n",
    "6. Word Cloud Documention in python. Accessed April 11, 2023. https://pypi.org/project/wordcloud/"
   ]
  },
  {
   "cell_type": "code",
   "execution_count": null,
   "metadata": {},
   "outputs": [],
   "source": []
  }
 ],
 "metadata": {
  "kernelspec": {
   "display_name": "Python 3 (ipykernel)",
   "language": "python",
   "name": "python3"
  },
  "language_info": {
   "codemirror_mode": {
    "name": "ipython",
    "version": 3
   },
   "file_extension": ".py",
   "mimetype": "text/x-python",
   "name": "python",
   "nbconvert_exporter": "python",
   "pygments_lexer": "ipython3",
   "version": "3.10.9"
  }
 },
 "nbformat": 4,
 "nbformat_minor": 4
}
